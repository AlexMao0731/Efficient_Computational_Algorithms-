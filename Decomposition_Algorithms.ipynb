{
 "cells": [
  {
   "cell_type": "code",
   "execution_count": 54,
   "id": "independent-forward",
   "metadata": {},
   "outputs": [],
   "source": [
    "\"Import the required packages\"\n",
    "from cmath import sqrt\n",
    "import numpy as np\n",
    "from scipy.linalg import lu, svd,schur,qr\n",
    "import sklearn.datasets as data\n",
    "import time\n",
    "import matplotlib.pylab as plt\n",
    "import os"
   ]
  },
  {
   "cell_type": "code",
   "execution_count": 2,
   "id": "friendly-sweden",
   "metadata": {},
   "outputs": [],
   "source": [
    "def spd_matrix(n, sparsity = None, *args):\n",
    "    \"\"\" Creates sparse or dense Semi Positive Definite matrix\n",
    "    \n",
    "        args:\n",
    "            dim : int, default=1\n",
    "                The size of the random matrix to generate.\n",
    "    \n",
    "            alpha : float, default=0.95\n",
    "                The probability that a coefficient is zero. Larger values enforce more sparsity.\n",
    "                The value should be in the range 0 and 1.\n",
    "    \n",
    "            norm_diag :bool, default=False\n",
    "                    Whether to normalize the output matrix to make the leading diagonal elements all 1\n",
    "\n",
    "            smallest_coef :float, default=0.1\n",
    "                        The value of the smallest coefficient between 0 and 1.\n",
    "\n",
    "            largest_coef :float, default=0.9\n",
    "                        The value of the largest coefficient between 0 and 1.\n",
    "\n",
    "            random_state :int, RandomState instance or None, default=None\n",
    "                        Determines random number generation for dataset creation. \n",
    "                        Pass an int for reproducible output across multiple function calls.\n",
    "            \n",
    "        returns:\n",
    "            array: semi positive definite n x n dimansional matrix and sparsity rate the matrix\n",
    "        \n",
    "        Possible Error : \n",
    "            When the dimansion of the matrix increase; the alpha should be increased as well however,\n",
    "            above 600 x 600 matrix dimansion (emprically since sklearn uses randomization) yields to generating non-spd matrix.\n",
    "        \n",
    "    \"\"\"\n",
    "    \n",
    "    if sparsity :\n",
    "        A = data.make_sparse_spd_matrix(dim = n, alpha = sparsity, norm_diag = False, \n",
    "                                    smallest_coef = 0.1, largest_coef = 0.9, random_state = None)\n",
    "        \n",
    "    else:\n",
    "        A = data.make_spd_matrix(n, *args)\n",
    "          \n",
    "    return A"
   ]
  },
  {
   "cell_type": "code",
   "execution_count": null,
   "id": "invalid-atlanta",
   "metadata": {},
   "outputs": [],
   "source": [
    "def diagonally_dominant_matrix():\n",
    "    \"\"\" Created diagonally dominant square matrix\n",
    "    \n",
    "        Since Levy–Desplanques theorem proved that a strictly diagonally dominant matrix is non-singular\"\"\""
   ]
  },
  {
   "cell_type": "code",
   "execution_count": 3,
   "id": "about-premium",
   "metadata": {},
   "outputs": [
    {
     "name": "stdout",
     "output_type": "stream",
     "text": [
      "[[ 1.01835549 -0.89382787 -0.13548244  0.        ]\n",
      " [-0.89382787  2.38592145  0.25555455 -0.76615481]\n",
      " [-0.13548244  0.25555455  1.11125875 -0.33355472]\n",
      " [ 0.         -0.76615481 -0.33355472  1.        ]]\n"
     ]
    }
   ],
   "source": [
    "\"\"\" create a sparse or dense spd matrix \"\"\"\n",
    "A = spd_matrix(4, .5)\n",
    "print(A)"
   ]
  },
  {
   "cell_type": "code",
   "execution_count": 4,
   "id": "sweet-reset",
   "metadata": {},
   "outputs": [],
   "source": [
    "def symmetry_check(a, rtol = 1e-05, atol = 1e-08):\n",
    "    \" Check if the system is symmetric means A = Transpose of A \"\n",
    "    \n",
    "    return np.allclose(a, a.T, rtol=rtol, atol=atol)"
   ]
  },
  {
   "cell_type": "code",
   "execution_count": 5,
   "id": "acknowledged-incentive",
   "metadata": {},
   "outputs": [
    {
     "data": {
      "text/plain": [
       "True"
      ]
     },
     "execution_count": 5,
     "metadata": {},
     "output_type": "execute_result"
    }
   ],
   "source": [
    "symmetry_check(A)"
   ]
  },
  {
   "cell_type": "code",
   "execution_count": 6,
   "id": "judicial-construction",
   "metadata": {},
   "outputs": [],
   "source": [
    "def pos_semidef_check (x):\n",
    "    \" Check if all eigen values are nonnegative \"\n",
    "    \n",
    "    w,v = np.linalg.eig(x)\n",
    "    \n",
    "    #print(\"Eigenvalues :\",w)\n",
    "    #print(\"Eigenvectors :\", v)\n",
    "    return np.all(w >= 0)"
   ]
  },
  {
   "cell_type": "code",
   "execution_count": 7,
   "id": "suitable-whole",
   "metadata": {},
   "outputs": [
    {
     "data": {
      "text/plain": [
       "True"
      ]
     },
     "execution_count": 7,
     "metadata": {},
     "output_type": "execute_result"
    }
   ],
   "source": [
    "pos_semidef_check(A)"
   ]
  },
  {
   "cell_type": "code",
   "execution_count": 23,
   "id": "downtown-ebony",
   "metadata": {},
   "outputs": [],
   "source": [
    "def custom_cholesky (A):\n",
    "    \"\"\" Cholesky algorithm for decomposition of a SPD matrix, returns lower triangular matrix \"\"\"\n",
    "    \n",
    "    check = pos_semidef_check(A) and symmetry_check(A)\n",
    "    \n",
    "    if check == True:\n",
    "        \n",
    "        L = np.zeros_like(A, dtype = float) # without dtype = float it introduces rounding error\n",
    "        n = len(A)\n",
    "\n",
    "    # Perform the Cholesky decomposition\n",
    "        for i in range(n):\n",
    "            for k in range(i+1):\n",
    "                tmp_sum = sum(L[i][j] * L[k][j] for j in range(k))\n",
    "                \n",
    "                if (i == k): # Diagonal elements\n",
    "                # l_{kk} = \\sqrt{ a_{kk} - \\sum^{k-1}_{j=1} l^2_{kj}}\n",
    "                    \n",
    "                    L[i][k] = abs(sqrt(A[i][i] - tmp_sum))\n",
    "                else:\n",
    "                # l_{ik} = \\frac{1}{l_{kk}} \\left( a_{ik} - \\sum^{k-1}_{j=1} l_{ij} l_{kj} \\right)\n",
    "                    L[i][k] = abs((A[i][k] - tmp_sum) / L[k][k])\n",
    "        return L\n",
    "        \n",
    "    else:\n",
    "        return f\" Check fails \"\n",
    "    "
   ]
  },
  {
   "cell_type": "code",
   "execution_count": 24,
   "id": "hundred-custody",
   "metadata": {},
   "outputs": [
    {
     "data": {
      "text/plain": [
       "array([[1.00913601, 0.        , 0.        , 0.        ],\n",
       "       [0.88573578, 1.26546181, 0.        , 0.        ],\n",
       "       [0.13425587, 0.10797586, 1.03998814, 0.        ],\n",
       "       [0.        , 0.60543495, 0.3835881 , 0.69735836]])"
      ]
     },
     "execution_count": 24,
     "metadata": {},
     "output_type": "execute_result"
    }
   ],
   "source": [
    "custom_cholesky(A)"
   ]
  },
  {
   "cell_type": "code",
   "execution_count": 25,
   "id": "absolute-denmark",
   "metadata": {},
   "outputs": [],
   "source": [
    "def numpy_cholesky(A) :\n",
    "    \"\"\" Cholesky decomposition method from numpy \"\"\"\n",
    "    \n",
    "    return np.linalg.cholesky(A)"
   ]
  },
  {
   "cell_type": "code",
   "execution_count": 63,
   "id": "alternative-jonathan",
   "metadata": {},
   "outputs": [],
   "source": [
    "def scipy_lu(A) :\n",
    "    \"\"\" LU decomposition method from numpy \"\"\"\n",
    "    \n",
    "    return lu(A)"
   ]
  },
  {
   "cell_type": "code",
   "execution_count": 45,
   "id": "adapted-standard",
   "metadata": {},
   "outputs": [],
   "source": [
    "def numpy_spectral(A) :\n",
    "    \"\"\" Eigen decomposition method from numpy \"\"\"\n",
    "    \n",
    "    return np.linalg.eig(A)"
   ]
  },
  {
   "cell_type": "code",
   "execution_count": 52,
   "id": "individual-deficit",
   "metadata": {},
   "outputs": [],
   "source": [
    "def scipy_svd(A) :\n",
    "    \"\"\" SVD decomposition method from numpy \"\"\"\n",
    "    \n",
    "    return svd(A)"
   ]
  },
  {
   "cell_type": "code",
   "execution_count": 58,
   "id": "superior-mother",
   "metadata": {},
   "outputs": [],
   "source": [
    "def scipy_schur(A) :\n",
    "    \"\"\" Schur decomposition method from numpy \"\"\"\n", 
    "    \n",
    "    return schur(A)"
   ]
  },
  {
   "cell_type": "code",
   "execution_count": 59,
   "id": "extra-scanning",
   "metadata": {},
   "outputs": [],
   "source": [
    "def scipy_qr(A) :\n",
    "    \"\"\" QR decomposition method from numpy \"\"\"\n", 
    "    \n",
    "    return qr(A)"
   ]
  },
  {
   "cell_type": "code",
   "execution_count": 62,
   "id": "clinical-peter",
   "metadata": {},
   "outputs": [
    {
     "data": {
      "text/plain": [
       "(array([[-0.74783486, -0.55796252,  0.01171848,  0.35956019],\n",
       "        [ 0.65638732, -0.63243599,  0.16089455,  0.37854107],\n",
       "        [ 0.09949226, -0.02151781, -0.97339887,  0.20526302],\n",
       "        [-0.        ,  0.53687944,  0.16269681,  0.82782258]]),\n",
       " array([[-1.36173847,  2.25994993,  0.3796229 , -0.53608042],\n",
       "        [ 0.        , -1.42705188, -0.28901829,  1.02860068],\n",
       "        [ 0.        ,  0.        , -1.09643662,  0.36410846],\n",
       "        [ 0.        ,  0.        ,  0.        ,  0.46933506]]))"
      ]
     },
     "execution_count": 62,
     "metadata": {},
     "output_type": "execute_result"
    }
   ],
   "source": [
    "scipy_qr(A)"
   ]
  },
  {
   "cell_type": "code",
   "execution_count": 69,
   "id": "acceptable-greek",
   "metadata": {},
   "outputs": [],
   "source": [
    "class TEST():\n",
    "    def __init__(self, mtrx, fact, typ, dim, test_run, *args):\n",
    "        \"\"\" Class to test how different algorithms perform factorization process\n",
    "        \n",
    "             By the help of passed different combination of variables and methods, this claass test\n",
    "             the performance of algorithms, saves the results in a npy file and read it back\n",
    "             \n",
    "            Args:\n",
    "                mtrx: str, matrix type to use e.g \"spd\" creates Semi Positive Definite, \n",
    "                    since the project in under development we will add some other specific matrices.\n",
    "                    \n",
    "                fact: str, factorization algorithm to use e.g. \"cholesky\" \n",
    "                \n",
    "                typ: str, specific factorization algorhm to use e.g. \"numpy\" returns the factorization \n",
    "                    method from that library\n",
    "                     \n",
    "                dim: int, dimantionality of the square matrix \n",
    "                    Possible change : we may change this argument as tuple to create \n",
    "                    non-square matrices for different applications\n",
    "                     \n",
    "                est_run: int, for every dimansion step we run the factorization algorithms this varible times\n",
    "                     \n",
    "            Returns:\n",
    "                results: array, averaged test results for every dimantion of the matrix\n",
    "            \n",
    "        \"\"\"\n",
    "        \n",
    "        self.matrix = { \"spd\" : spd_matrix }\n",
    "        self.factorization = { \"cholesky\" : {\"custom\" : custom_cholesky, \"numpy\" : numpy_cholesky},\n",
    "                               \"lu\" : {\"scipy\" : scipy_lu},\n",
    "                               \"spectral\" : {\"numpy\" : numpy_spectral},\n",
    "                               \"svd\" : {\"scipy\" : scipy_svd},\n",
    "                               \"schur\" : {\"scipy\" : scipy_schur},\n",
    "                               \"qr\" : {\"scipy\" : scipy_qr},\n",
    "                               }\n",
    "        \n",
    "        self.dim = dim\n",
    "        self.test_run = test_run\n",
    "        self.typ = typ\n",
    "        self.fact = fact\n",
    "        self.A = self.matrix[mtrx](self.dim, *args)\n",
    "        self.rate = TEST.get_sparsity(self, self.A)\n",
    "\n",
    "        \n",
    "    def stochastic_test(self,):\n",
    "        results = []\n",
    "        t = np.array(0, dtype=float)\n",
    "        \n",
    "        for j in range(self.dim):\n",
    "            for i in range(self.test_run):\n",
    "                t_0 = time.time()\n",
    "                L = self.factorization[self.fact][self.typ](self.A)\n",
    "                t_1 = time.time() - t_0\n",
    "                t = np.append(t, t_1)                \n",
    "                T = np.sum(t / self.test_run, dtype=float)\n",
    "                \n",
    "            results.append([j+1,T])\n",
    "            \n",
    "            TEST.save_file(self, results, self.rate)\n",
    "            \n",
    "        plt.title(\"Sparsity Scheme of Main Matrix\")\n",
    "        plt.spy(self.mat)\n",
    "        \n",
    "        \n",
    "        return results\n",
    "        \n",
    "        #print(t,L)\n",
    "        #for i in range(self.test_run):\n",
    "        \n",
    "    def get_sparsity(self, m):\n",
    "        self.mat = m\n",
    "        n = self.dim\n",
    "        sparsity_rate = self.mat[np.where(self.mat == 0)].size / (n*n)\n",
    "        \n",
    "        return sparsity_rate\n",
    "            \n",
    "    def save_file(self, results, rate):\n",
    "        self.current_dir = os.getcwd()\n",
    "        self.new_dir = self.current_dir+\"\\\\results_\"+self.fact\n",
    "        self.results = results\n",
    "        self.rate = str(rate)\n",
    "        \n",
    "        try : \n",
    "            os.mkdir(self.new_dir)\n",
    "        except OSError as error:\n",
    "            pass\n",
    "\n",
    "        outfile = self.typ+\"_\"+self.fact+\"_\"+str(self.dim)+\"dim\"+\"_\"+str(self.test_run)+\"run\"+\"_\"+self.rate+\"sparsity\"\n",
    "        out_path = self.new_dir+\"\\\\\"+outfile\n",
    "                \n",
    "        return np.save(out_path, self.results, allow_pickle=True, fix_imports=True)\n",
   
    "    def creatGraph(npydata):\n",
    "       npydata=np.load(npydata)\n",
    "       plt.plot(npydata[:,0],npydata[:,1], label='line')\n",
    "       plt.xlabel('n dimension')\n",
    "       plt.ylabel('Time')\n",
    "       plt.title("decompostion")\n",
    "       plt.legend()\n",
    "       plt.show()\n",
    "\n"
    "\n"
    "\n"
    "\n"
    "\n"
    "\n"
    "                          "
   ]
  },
  {
   "cell_type": "code",
   "execution_count": 70,
   "id": "powered-knock",
   "metadata": {},
   "outputs": [
    {
     "name": "stdout",
     "output_type": "stream",
     "text": [
      "[[1, 0.0057849884033203125], [2, 0.009772491455078124], [3, 0.013562345504760742], [4, 0.01735382080078125], [5, 0.021246480941772457], [6, 0.025036191940307616], [7, 0.028729200363159176], [8, 0.03251934051513672], [9, 0.03630914688110352], [10, 0.040099143981933594], [11, 0.043734836578369136], [12, 0.047630357742309566], [13, 0.051220703125], [14, 0.05501046180725098], [15, 0.058906221389770516], [16, 0.06270422935485839], [17, 0.06669378280639648], [18, 0.07068309783935547], [19, 0.07469477653503419], [20, 0.07868418693542481], [21, 0.08267340660095214], [22, 0.08666276931762693], [23, 0.09038629531860352], [24, 0.09437556266784668], [25, 0.09806966781616212], [26, 0.10205912590026855], [27, 0.1058495044708252], [28, 0.10964155197143555], [29, 0.1135434150695801], [30, 0.11733312606811525], [31, 0.12112302780151368], [32, 0.12491288185119628], [33, 0.12882323265075685], [34, 0.1323112964630127], [35, 0.13610124588012695], [36, 0.13989105224609374], [37, 0.14368114471435545], [38, 0.14775757789611815], [39, 0.15154724121093752], [40, 0.15553646087646486], [41, 0.1595256805419922], [42, 0.16331558227539061], [43, 0.16731643676757812], [44, 0.1712113380432129], [45, 0.1752007007598877], [46, 0.17899055480957032], [47, 0.18278045654296876], [48, 0.1865485668182373], [49, 0.1901390552520752], [50, 0.19432635307312013], [51, 0.1983156681060791], [52, 0.20210547447204588], [53, 0.20609483718872068], [54, 0.20988450050354002], [55, 0.21367416381835938], [56, 0.21746554374694824], [57, 0.22125520706176757], [58, 0.2251675605773926], [59, 0.2291572093963623], [60, 0.23314471244812013], [61, 0.23673501014709475], [62, 0.2407244682312012], [63, 0.24431490898132327], [64, 0.2483041763305664], [65, 0.2522933006286621], [66, 0.25608329772949223], [67, 0.2600726127624512], [68, 0.26386232376098634], [69, 0.2678518295288086], [70, 0.27144227027893064], [71, 0.27523207664489746], [72, 0.2792211532592773], [73, 0.2842077732086182], [74, 0.28819675445556636], [75, 0.2921860694885253], [76, 0.2961753845214844], [77, 0.30016469955444336], [78, 0.3041540145874023], [79, 0.30794391632080076], [80, 0.3117337226867676], [81, 0.3155239105224609], [82, 0.31931371688842775], [83, 0.3231035709381104], [84, 0.32729244232177734], [85, 0.3310823440551758], [86, 0.33547077178955076], [87, 0.33946003913879397], [88, 0.3436520576477051], [89, 0.3474416255950928], [90, 0.35123143196105955], [91, 0.3552206039428711], [92, 0.35901031494140623], [93, 0.36280012130737305], [94, 0.366589879989624], [95, 0.3705241203308105], [96, 0.3743138790130615], [97, 0.37830295562744143], [98, 0.38184456825256347], [99, 0.3858337879180908], [100, 0.38982305526733396], [101, 0.393812370300293], [102, 0.39769759178161623], [103, 0.40268421173095703], [104, 0.40627436637878417], [105, 0.41028413772583006], [106, 0.41414265632629393], [107, 0.4181375980377197], [108, 0.42212681770324706], [109, 0.4259166240692138], [110, 0.4297062397003174], [111, 0.4335995197296143], [112, 0.4375887870788574], [113, 0.4415436267852783], [114, 0.4453333854675293], [115, 0.44872369766235354], [116, 0.452623987197876], [117, 0.4566132545471192], [118, 0.4606025218963623], [119, 0.46399359703063964], [120, 0.4677834987640381], [121, 0.47157492637634274], [122, 0.47536468505859375], [123, 0.4793539524078369], [124, 0.48354272842407225], [125, 0.4873337268829346], [126, 0.4913229465484619], [127, 0.49491319656372074], [128, 0.4989022731781006], [129, 0.5026921272277832], [130, 0.5063887119293213], [131, 0.5101785659790039], [132, 0.5141680240631104], [133, 0.5181574344635009], [134, 0.5217478752136231], [135, 0.5254435539245605], [136, 0.5294329166412354], [137, 0.5332226753234863], [138, 0.5370126724243164], [139, 0.5408027172088623], [140, 0.5443930625915527], [141, 0.5483826637268066], [142, 0.5523718833923339], [143, 0.5561616897583008], [144, 0.5599514484405518], [145, 0.5633420944213867], [146, 0.5677302837371826], [147, 0.5715198516845702], [148, 0.5755088806152343], [149, 0.5794984817504882], [150, 0.5832884311676024], [151, 0.5874772071838378], [152, 0.5912670135498046], [153, 0.5950573444366454], [154, 0.5988473892211914], [155, 0.6024370193481445], [156, 0.6062270164489747], [157, 0.6100166797637939], [158, 0.6138064384460449], [159, 0.6177957057952881], [160, 0.6213861465454101], [161, 0.625175952911377], [162, 0.6290340900421143], [163, 0.6329894065856934], [164, 0.6367792129516602], [165, 0.6403693675994874], [166, 0.6441596031188965], [167, 0.6480414867401123], [168, 0.6518311500549316], [169, 0.6570460796356201], [170, 0.6610357284545898], [171, 0.6648252964019776], [172, 0.6688145637512207], [173, 0.6726043224334717], [174, 0.676593542098999], [175, 0.6805829048156737], [176, 0.6841733455657959], [177, 0.6880957603454589], [178, 0.6918855667114258], [179, 0.6956782341003418], [180, 0.6994141578674316], [181, 0.703403615951538], [182, 0.7069942474365234], [183, 0.7109835624694825], [184, 0.7147732734680176], [185, 0.7185630798339844], [186, 0.7225523471832275], [187, 0.7263421535491943], [188, 0.7299324989318847], [189, 0.7335232734680175], [190, 0.7371135711669922], [191, 0.7411028861999511], [192, 0.7448925971984863], [193, 0.7486823558807372], [194, 0.7528708934783934], [195, 0.7568788528442383], [196, 0.7608697414398193], [197, 0.7647403240203857], [198, 0.7687638759613037], [199, 0.7725537300109864], [200, 0.7765429973602296]]\n"
     ]
    },
    {
     "data": {
      "image/png": "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\n",
      "text/plain": [
       "<Figure size 432x288 with 1 Axes>"
      ]
     },
     "metadata": {
      "needs_background": "light"
     },
     "output_type": "display_data"
    }
   ],
   "source": [
    "t = TEST(\"spd\",\"qr\", \"scipy\", 200, 5, .95)\n",
    "print(t.stochastic_test())"
   ]
  },
  {
   "cell_type": "code",
   "execution_count": null,
   "id": "guided-driver",
   "metadata": {},
   "outputs": [],
   "source": []
  }
 ],
 "metadata": {
  "kernelspec": {
   "display_name": "Python 3",
   "language": "python",
   "name": "python3"
  },
  "language_info": {
   "codemirror_mode": {
    "name": "ipython",
    "version": 3
   },
   "file_extension": ".py",
   "mimetype": "text/x-python",
   "name": "python",
   "nbconvert_exporter": "python",
   "pygments_lexer": "ipython3",
   "version": "3.8.5"
  }
 },
 "nbformat": 4,
 "nbformat_minor": 5
}
